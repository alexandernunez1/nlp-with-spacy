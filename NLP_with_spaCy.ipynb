{
  "nbformat": 4,
  "nbformat_minor": 0,
  "metadata": {
    "colab": {
      "name": "NLP with spaCy.ipynb",
      "provenance": [],
      "collapsed_sections": [],
      "mount_file_id": "1B1oO-FiepTupBRgB96CRTIlXyywJ7rs1",
      "authorship_tag": "ABX9TyPv0JFqpOGiEdHhFyR7vyfj",
      "include_colab_link": true
    },
    "kernelspec": {
      "name": "python3",
      "display_name": "Python 3"
    },
    "language_info": {
      "name": "python"
    }
  },
  "cells": [
    {
      "cell_type": "markdown",
      "metadata": {
        "id": "view-in-github",
        "colab_type": "text"
      },
      "source": [
        "<a href=\"https://colab.research.google.com/github/alexandernunez1/nlp-with-spacy/blob/main/NLP_with_spaCy.ipynb\" target=\"_parent\"><img src=\"https://colab.research.google.com/assets/colab-badge.svg\" alt=\"Open In Colab\"/></a>"
      ]
    },
    {
      "cell_type": "code",
      "metadata": {
        "colab": {
          "base_uri": "https://localhost:8080/"
        },
        "id": "NlRl3dI30rvY",
        "outputId": "5ed6fe2e-fe93-4d5b-dc41-cf284bd3f9ca"
      },
      "source": [
        "!pip install spacy"
      ],
      "execution_count": 1,
      "outputs": [
        {
          "output_type": "stream",
          "name": "stdout",
          "text": [
            "Requirement already satisfied: spacy in /usr/local/lib/python3.7/dist-packages (2.2.4)\n",
            "Requirement already satisfied: wasabi<1.1.0,>=0.4.0 in /usr/local/lib/python3.7/dist-packages (from spacy) (0.8.2)\n",
            "Requirement already satisfied: murmurhash<1.1.0,>=0.28.0 in /usr/local/lib/python3.7/dist-packages (from spacy) (1.0.5)\n",
            "Requirement already satisfied: preshed<3.1.0,>=3.0.2 in /usr/local/lib/python3.7/dist-packages (from spacy) (3.0.5)\n",
            "Requirement already satisfied: cymem<2.1.0,>=2.0.2 in /usr/local/lib/python3.7/dist-packages (from spacy) (2.0.5)\n",
            "Requirement already satisfied: thinc==7.4.0 in /usr/local/lib/python3.7/dist-packages (from spacy) (7.4.0)\n",
            "Requirement already satisfied: srsly<1.1.0,>=1.0.2 in /usr/local/lib/python3.7/dist-packages (from spacy) (1.0.5)\n",
            "Requirement already satisfied: catalogue<1.1.0,>=0.0.7 in /usr/local/lib/python3.7/dist-packages (from spacy) (1.0.0)\n",
            "Requirement already satisfied: numpy>=1.15.0 in /usr/local/lib/python3.7/dist-packages (from spacy) (1.19.5)\n",
            "Requirement already satisfied: tqdm<5.0.0,>=4.38.0 in /usr/local/lib/python3.7/dist-packages (from spacy) (4.62.3)\n",
            "Requirement already satisfied: plac<1.2.0,>=0.9.6 in /usr/local/lib/python3.7/dist-packages (from spacy) (1.1.3)\n",
            "Requirement already satisfied: requests<3.0.0,>=2.13.0 in /usr/local/lib/python3.7/dist-packages (from spacy) (2.23.0)\n",
            "Requirement already satisfied: setuptools in /usr/local/lib/python3.7/dist-packages (from spacy) (57.4.0)\n",
            "Requirement already satisfied: blis<0.5.0,>=0.4.0 in /usr/local/lib/python3.7/dist-packages (from spacy) (0.4.1)\n",
            "Requirement already satisfied: importlib-metadata>=0.20 in /usr/local/lib/python3.7/dist-packages (from catalogue<1.1.0,>=0.0.7->spacy) (4.8.1)\n",
            "Requirement already satisfied: typing-extensions>=3.6.4 in /usr/local/lib/python3.7/dist-packages (from importlib-metadata>=0.20->catalogue<1.1.0,>=0.0.7->spacy) (3.7.4.3)\n",
            "Requirement already satisfied: zipp>=0.5 in /usr/local/lib/python3.7/dist-packages (from importlib-metadata>=0.20->catalogue<1.1.0,>=0.0.7->spacy) (3.6.0)\n",
            "Requirement already satisfied: idna<3,>=2.5 in /usr/local/lib/python3.7/dist-packages (from requests<3.0.0,>=2.13.0->spacy) (2.10)\n",
            "Requirement already satisfied: urllib3!=1.25.0,!=1.25.1,<1.26,>=1.21.1 in /usr/local/lib/python3.7/dist-packages (from requests<3.0.0,>=2.13.0->spacy) (1.24.3)\n",
            "Requirement already satisfied: chardet<4,>=3.0.2 in /usr/local/lib/python3.7/dist-packages (from requests<3.0.0,>=2.13.0->spacy) (3.0.4)\n",
            "Requirement already satisfied: certifi>=2017.4.17 in /usr/local/lib/python3.7/dist-packages (from requests<3.0.0,>=2.13.0->spacy) (2021.5.30)\n"
          ]
        }
      ]
    },
    {
      "cell_type": "code",
      "metadata": {
        "colab": {
          "base_uri": "https://localhost:8080/"
        },
        "id": "RrCcQzD60xSQ",
        "outputId": "b1760d34-fc5e-4cdf-8fcb-8dc4b5d0da49"
      },
      "source": [
        "!python -m spacy download en_core_web_sm"
      ],
      "execution_count": 2,
      "outputs": [
        {
          "output_type": "stream",
          "name": "stdout",
          "text": [
            "Collecting en_core_web_sm==2.2.5\n",
            "  Downloading https://github.com/explosion/spacy-models/releases/download/en_core_web_sm-2.2.5/en_core_web_sm-2.2.5.tar.gz (12.0 MB)\n",
            "\u001b[K     |████████████████████████████████| 12.0 MB 32.0 MB/s \n",
            "\u001b[?25hRequirement already satisfied: spacy>=2.2.2 in /usr/local/lib/python3.7/dist-packages (from en_core_web_sm==2.2.5) (2.2.4)\n",
            "Requirement already satisfied: requests<3.0.0,>=2.13.0 in /usr/local/lib/python3.7/dist-packages (from spacy>=2.2.2->en_core_web_sm==2.2.5) (2.23.0)\n",
            "Requirement already satisfied: thinc==7.4.0 in /usr/local/lib/python3.7/dist-packages (from spacy>=2.2.2->en_core_web_sm==2.2.5) (7.4.0)\n",
            "Requirement already satisfied: murmurhash<1.1.0,>=0.28.0 in /usr/local/lib/python3.7/dist-packages (from spacy>=2.2.2->en_core_web_sm==2.2.5) (1.0.5)\n",
            "Requirement already satisfied: preshed<3.1.0,>=3.0.2 in /usr/local/lib/python3.7/dist-packages (from spacy>=2.2.2->en_core_web_sm==2.2.5) (3.0.5)\n",
            "Requirement already satisfied: plac<1.2.0,>=0.9.6 in /usr/local/lib/python3.7/dist-packages (from spacy>=2.2.2->en_core_web_sm==2.2.5) (1.1.3)\n",
            "Requirement already satisfied: catalogue<1.1.0,>=0.0.7 in /usr/local/lib/python3.7/dist-packages (from spacy>=2.2.2->en_core_web_sm==2.2.5) (1.0.0)\n",
            "Requirement already satisfied: cymem<2.1.0,>=2.0.2 in /usr/local/lib/python3.7/dist-packages (from spacy>=2.2.2->en_core_web_sm==2.2.5) (2.0.5)\n",
            "Requirement already satisfied: tqdm<5.0.0,>=4.38.0 in /usr/local/lib/python3.7/dist-packages (from spacy>=2.2.2->en_core_web_sm==2.2.5) (4.62.3)\n",
            "Requirement already satisfied: srsly<1.1.0,>=1.0.2 in /usr/local/lib/python3.7/dist-packages (from spacy>=2.2.2->en_core_web_sm==2.2.5) (1.0.5)\n",
            "Requirement already satisfied: numpy>=1.15.0 in /usr/local/lib/python3.7/dist-packages (from spacy>=2.2.2->en_core_web_sm==2.2.5) (1.19.5)\n",
            "Requirement already satisfied: setuptools in /usr/local/lib/python3.7/dist-packages (from spacy>=2.2.2->en_core_web_sm==2.2.5) (57.4.0)\n",
            "Requirement already satisfied: blis<0.5.0,>=0.4.0 in /usr/local/lib/python3.7/dist-packages (from spacy>=2.2.2->en_core_web_sm==2.2.5) (0.4.1)\n",
            "Requirement already satisfied: wasabi<1.1.0,>=0.4.0 in /usr/local/lib/python3.7/dist-packages (from spacy>=2.2.2->en_core_web_sm==2.2.5) (0.8.2)\n",
            "Requirement already satisfied: importlib-metadata>=0.20 in /usr/local/lib/python3.7/dist-packages (from catalogue<1.1.0,>=0.0.7->spacy>=2.2.2->en_core_web_sm==2.2.5) (4.8.1)\n",
            "Requirement already satisfied: typing-extensions>=3.6.4 in /usr/local/lib/python3.7/dist-packages (from importlib-metadata>=0.20->catalogue<1.1.0,>=0.0.7->spacy>=2.2.2->en_core_web_sm==2.2.5) (3.7.4.3)\n",
            "Requirement already satisfied: zipp>=0.5 in /usr/local/lib/python3.7/dist-packages (from importlib-metadata>=0.20->catalogue<1.1.0,>=0.0.7->spacy>=2.2.2->en_core_web_sm==2.2.5) (3.6.0)\n",
            "Requirement already satisfied: urllib3!=1.25.0,!=1.25.1,<1.26,>=1.21.1 in /usr/local/lib/python3.7/dist-packages (from requests<3.0.0,>=2.13.0->spacy>=2.2.2->en_core_web_sm==2.2.5) (1.24.3)\n",
            "Requirement already satisfied: certifi>=2017.4.17 in /usr/local/lib/python3.7/dist-packages (from requests<3.0.0,>=2.13.0->spacy>=2.2.2->en_core_web_sm==2.2.5) (2021.5.30)\n",
            "Requirement already satisfied: chardet<4,>=3.0.2 in /usr/local/lib/python3.7/dist-packages (from requests<3.0.0,>=2.13.0->spacy>=2.2.2->en_core_web_sm==2.2.5) (3.0.4)\n",
            "Requirement already satisfied: idna<3,>=2.5 in /usr/local/lib/python3.7/dist-packages (from requests<3.0.0,>=2.13.0->spacy>=2.2.2->en_core_web_sm==2.2.5) (2.10)\n",
            "\u001b[38;5;2m✔ Download and installation successful\u001b[0m\n",
            "You can now load the model via spacy.load('en_core_web_sm')\n"
          ]
        }
      ]
    },
    {
      "cell_type": "code",
      "metadata": {
        "id": "gFFqpUTC1E-0"
      },
      "source": [
        "import spacy"
      ],
      "execution_count": 3,
      "outputs": []
    },
    {
      "cell_type": "code",
      "metadata": {
        "id": "FOgcQ0KJ1OXg"
      },
      "source": [
        "nlp = spacy.load(\"en_core_web_sm\")"
      ],
      "execution_count": 4,
      "outputs": []
    },
    {
      "cell_type": "code",
      "metadata": {
        "id": "ZiHfkAcl1TDI"
      },
      "source": [
        "with open (\"/lancaster.txt\", \"r\") as f:\n",
        "  text = f.read()"
      ],
      "execution_count": 8,
      "outputs": []
    },
    {
      "cell_type": "code",
      "metadata": {
        "colab": {
          "base_uri": "https://localhost:8080/",
          "height": 157
        },
        "id": "o7iZsqIJyDhV",
        "outputId": "5f1a9ff0-6c44-447f-d150-58b930322231"
      },
      "source": [
        "text"
      ],
      "execution_count": 11,
      "outputs": [
        {
          "output_type": "execute_result",
          "data": {
            "application/vnd.google.colaboratory.intrinsic+json": {
              "type": "string"
            },
            "text/plain": [
              "\"The area where Lancaster is now located, known as the Antelope Valley, was originally home to the Paiute Indians. The Antelope Valley's central geography initially served as the hub of a trade route for tribes trading between the California coast, the Central Valley, the Great Basin, and the pueblos of Arizona.[10]\\n\\nAfter statehood, the Antelope Valley again served as a geographic shortcut but for the Stockton-Los Angeles Road and the Butterfield Overland Mail, which had two nearby stops in Mud Spring and Neenach in the 1850s. However, Lancaster's origins as a settlement start with the Southern Pacific Railroad, which replaced the stage coach routes. The railroad built a station house, locomotive watering facility, section gang housing, and railroad track in the location of the town's current center. In 1876 the Southern Pacific completed the line through the Antelope Valley,[11] linking San Francisco and Los Angeles.\\n\\nThe origin of Lancaster's name is unclear, attributed variously to the surname of a railroad station clerk, the moniker given by railroad officials, or the former Pennsylvania home (Lancaster, Pennsylvania) of unknown settlers. Train service brought passengers through the water-stop-turned-community, which, with the help of promotional literature, attracted new settlers. The person credited with formally developing the town is Moses Langley Wicks, who in 1884 bought property from the railroad for $2.50 per acre, mapped out a town with streets and lots, and by September was advertising 160-acre tracts of land for $6 an acre. The following year, the Lancaster News started publication, making it the first weekly newspaper in the Antelope Valley. By 1890, Lancaster was bustling and booming, and thanks to adequate rainfall, farmers planted and sold thousands of acres of wheat and barley.\\n\\nThe town was devastated by the decade-long drought that began in 1894, killing businesses and driving cattle north, though fortunes improved somewhat in the late-1890s following the nearby discoveries of gold and borax. The Tropico Gold Mine in Rosamond was briefly the largest goldmine in Southern California before its 1956 closure.[12][13] The Rio Tinto Borax Mine would later become the world's largest borax mine, producing nearly half of the world's supply of borates.[14] The construction of the Los Angeles Aqueduct, starting in 1908, brought growth to the local economy by housing the aqueduct workers and introducing a steady stream of water. The 1912 completion of Antelope Valley High School allowed students from the growing region to study locally instead of moving to distant cities, hosting the state's first high school dormitory system.[15]\\n\""
            ]
          },
          "metadata": {},
          "execution_count": 11
        }
      ]
    },
    {
      "cell_type": "code",
      "metadata": {
        "id": "xV1YGJzMyz2m"
      },
      "source": [
        "doc = nlp(text)"
      ],
      "execution_count": 12,
      "outputs": []
    },
    {
      "cell_type": "code",
      "metadata": {
        "colab": {
          "base_uri": "https://localhost:8080/"
        },
        "id": "tny2KHwUy-Rq",
        "outputId": "e229a35d-1c05-4077-8c51-c87b1108020c"
      },
      "source": [
        "print(doc)"
      ],
      "execution_count": 13,
      "outputs": [
        {
          "output_type": "stream",
          "name": "stdout",
          "text": [
            "The area where Lancaster is now located, known as the Antelope Valley, was originally home to the Paiute Indians. The Antelope Valley's central geography initially served as the hub of a trade route for tribes trading between the California coast, the Central Valley, the Great Basin, and the pueblos of Arizona.[10]\n",
            "\n",
            "After statehood, the Antelope Valley again served as a geographic shortcut but for the Stockton-Los Angeles Road and the Butterfield Overland Mail, which had two nearby stops in Mud Spring and Neenach in the 1850s. However, Lancaster's origins as a settlement start with the Southern Pacific Railroad, which replaced the stage coach routes. The railroad built a station house, locomotive watering facility, section gang housing, and railroad track in the location of the town's current center. In 1876 the Southern Pacific completed the line through the Antelope Valley,[11] linking San Francisco and Los Angeles.\n",
            "\n",
            "The origin of Lancaster's name is unclear, attributed variously to the surname of a railroad station clerk, the moniker given by railroad officials, or the former Pennsylvania home (Lancaster, Pennsylvania) of unknown settlers. Train service brought passengers through the water-stop-turned-community, which, with the help of promotional literature, attracted new settlers. The person credited with formally developing the town is Moses Langley Wicks, who in 1884 bought property from the railroad for $2.50 per acre, mapped out a town with streets and lots, and by September was advertising 160-acre tracts of land for $6 an acre. The following year, the Lancaster News started publication, making it the first weekly newspaper in the Antelope Valley. By 1890, Lancaster was bustling and booming, and thanks to adequate rainfall, farmers planted and sold thousands of acres of wheat and barley.\n",
            "\n",
            "The town was devastated by the decade-long drought that began in 1894, killing businesses and driving cattle north, though fortunes improved somewhat in the late-1890s following the nearby discoveries of gold and borax. The Tropico Gold Mine in Rosamond was briefly the largest goldmine in Southern California before its 1956 closure.[12][13] The Rio Tinto Borax Mine would later become the world's largest borax mine, producing nearly half of the world's supply of borates.[14] The construction of the Los Angeles Aqueduct, starting in 1908, brought growth to the local economy by housing the aqueduct workers and introducing a steady stream of water. The 1912 completion of Antelope Valley High School allowed students from the growing region to study locally instead of moving to distant cities, hosting the state's first high school dormitory system.[15]\n",
            "\n"
          ]
        }
      ]
    },
    {
      "cell_type": "code",
      "metadata": {
        "colab": {
          "base_uri": "https://localhost:8080/"
        },
        "id": "zm4e-XjJzAIs",
        "outputId": "c5332cda-4f7c-43ed-bff1-5e8b7e7a14b0"
      },
      "source": [
        "print(len(text)) # counting every character (all characters including whitespace)\n",
        "print(len(doc)) # counting individual tokens (words, punctuations)"
      ],
      "execution_count": 14,
      "outputs": [
        {
          "output_type": "stream",
          "name": "stdout",
          "text": [
            "2689\n",
            "488\n"
          ]
        }
      ]
    },
    {
      "cell_type": "code",
      "metadata": {
        "colab": {
          "base_uri": "https://localhost:8080/"
        },
        "id": "16E_Bc56zHP4",
        "outputId": "a73aacd5-634d-4ea0-94f8-b9ca25da38d9"
      },
      "source": [
        "for token in text[0:10]:\n",
        "  print(token)"
      ],
      "execution_count": 15,
      "outputs": [
        {
          "output_type": "stream",
          "name": "stdout",
          "text": [
            "T\n",
            "h\n",
            "e\n",
            " \n",
            "a\n",
            "r\n",
            "e\n",
            "a\n",
            " \n",
            "w\n"
          ]
        }
      ]
    },
    {
      "cell_type": "code",
      "metadata": {
        "colab": {
          "base_uri": "https://localhost:8080/"
        },
        "id": "53h-80GGzOjw",
        "outputId": "270cf3bd-372b-45b8-e668-a287bbbd0a61"
      },
      "source": [
        "for token in doc[0:10]:\n",
        "  print(token)"
      ],
      "execution_count": 16,
      "outputs": [
        {
          "output_type": "stream",
          "name": "stdout",
          "text": [
            "The\n",
            "area\n",
            "where\n",
            "Lancaster\n",
            "is\n",
            "now\n",
            "located\n",
            ",\n",
            "known\n",
            "as\n"
          ]
        }
      ]
    },
    {
      "cell_type": "code",
      "metadata": {
        "colab": {
          "base_uri": "https://localhost:8080/"
        },
        "id": "9VCIhrxtzTaI",
        "outputId": "cfae325c-cc94-484f-b2aa-ea0d621e035a"
      },
      "source": [
        "for token in text.split()[0:10]:\n",
        "  print(token)"
      ],
      "execution_count": 17,
      "outputs": [
        {
          "output_type": "stream",
          "name": "stdout",
          "text": [
            "The\n",
            "area\n",
            "where\n",
            "Lancaster\n",
            "is\n",
            "now\n",
            "located,\n",
            "known\n",
            "as\n",
            "the\n"
          ]
        }
      ]
    },
    {
      "cell_type": "code",
      "metadata": {
        "id": "2izz6WbbzsiH"
      },
      "source": [
        "# spacy recognizes and separates the punctuations at a smart level"
      ],
      "execution_count": null,
      "outputs": []
    }
  ]
}